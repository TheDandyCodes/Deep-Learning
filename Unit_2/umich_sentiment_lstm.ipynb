{
  "cells": [
    {
      "cell_type": "markdown",
      "metadata": {
        "id": "view-in-github",
        "colab_type": "text"
      },
      "source": [
        "<a href=\"https://colab.research.google.com/github/TheDandyCodes/Deep-Learning/blob/main/Unit_2/umich_sentiment_lstm.ipynb\" target=\"_parent\"><img src=\"https://colab.research.google.com/assets/colab-badge.svg\" alt=\"Open In Colab\"/></a>"
      ]
    },
    {
      "cell_type": "markdown",
      "metadata": {
        "id": "hBCX9ta63XvL"
      },
      "source": [
        "# LSTM with Keras — sentiment analysis\n",
        "\n",
        "https://learning.oreilly.com/library/view/deep-learning-with/9781787128422/cc94d70d-37d3-4bc3-9483-2f26e673f88b.xhtml\n",
        "\n",
        "Adaptado a Python 3"
      ]
    },
    {
      "cell_type": "code",
      "execution_count": 2,
      "metadata": {
        "colab": {
          "base_uri": "https://localhost:8080/"
        },
        "id": "ppTmdtN93XvP",
        "outputId": "014e390e-fc85-4da8-c106-541eb602faa6"
      },
      "outputs": [
        {
          "output_type": "stream",
          "name": "stdout",
          "text": [
            "3.11.11\n"
          ]
        }
      ],
      "source": [
        "# import the necessary packages\n",
        "# Cambio a tensorflow 2.x\n",
        "# En lugar de from keras import, from tensorflow.keras import\n",
        "# ciertos subpaquetes del antiguo keras desaparacen o cambian de nombre\n",
        "# ver lista siguiente\n",
        "\n",
        "# TensorFlow ≥2.0 is required\n",
        "import tensorflow as tf\n",
        "from tensorflow import keras\n",
        "\n",
        "assert tf.__version__ >= \"2.0\"\n",
        "\n",
        "if not tf.config.list_physical_devices('GPU'):\n",
        "    print(\"No GPU was detected. LSTMs and CNNs can be very slow without a GPU.\")\n",
        "\n",
        "\n",
        "# from keras.layers.core import Activation, Dense, Dropout, SpatialDropout1D\n",
        "from tensorflow.keras.layers import Activation, Dense, Dropout, SpatialDropout1D\n",
        "# from keras.layers.embeddings import Embedding\n",
        "from tensorflow.keras.layers import Embedding\n",
        "# from keras.layers.recurrent import LSTM\n",
        "from tensorflow.keras.layers import LSTM\n",
        "# from keras.models import Sequential\n",
        "from tensorflow.keras.models import Sequential\n",
        "# from keras.preprocessing import sequence\n",
        "from tensorflow.keras.preprocessing import sequence\n",
        "\n",
        "from sklearn.model_selection import train_test_split\n",
        "\n",
        "import collections\n",
        "import matplotlib.pyplot as plt\n",
        "import nltk\n",
        "import numpy as np\n",
        "import os\n",
        "\n",
        "from platform import python_version\n",
        "\n",
        "print(python_version())"
      ]
    },
    {
      "cell_type": "code",
      "execution_count": 6,
      "metadata": {
        "id": "rJ3dcUZS3Xvb"
      },
      "outputs": [],
      "source": [
        "#DATA_DIR = \"../data\"\n",
        "# Si se crea un directorio para los datos indicarlo\n",
        "# si se usa el mismo que el del notebook dejarlo tal cual\n",
        "DATA_DIR = \"./\"\n",
        "\n",
        "MAX_FEATURES = 2000\n",
        "MAX_SENTENCE_LENGTH = 40\n",
        "\n",
        "EMBEDDING_SIZE = 128\n",
        "HIDDEN_LAYER_SIZE = 64\n",
        "BATCH_SIZE = 32\n",
        "NUM_EPOCHS = 10"
      ]
    },
    {
      "cell_type": "code",
      "execution_count": 9,
      "metadata": {
        "colab": {
          "base_uri": "https://localhost:8080/"
        },
        "id": "Cn4y5N6x_PLF",
        "outputId": "9b984efd-3b99-4541-cc98-852e44d370e6"
      },
      "outputs": [
        {
          "output_type": "stream",
          "name": "stderr",
          "text": [
            "[nltk_data] Downloading package punkt_tab to /root/nltk_data...\n",
            "[nltk_data]   Unzipping tokenizers/punkt_tab.zip.\n"
          ]
        },
        {
          "output_type": "execute_result",
          "data": {
            "text/plain": [
              "True"
            ]
          },
          "metadata": {},
          "execution_count": 9
        }
      ],
      "source": [
        "nltk.download('punkt_tab')"
      ]
    },
    {
      "cell_type": "code",
      "execution_count": 10,
      "metadata": {
        "colab": {
          "base_uri": "https://localhost:8080/"
        },
        "id": "zmLwUquF3Xvj",
        "outputId": "7cd1ca7e-2676-4d4f-ded1-4eda9b4a03dd"
      },
      "outputs": [
        {
          "output_type": "stream",
          "name": "stdout",
          "text": [
            "42\n",
            "2268\n"
          ]
        }
      ],
      "source": [
        "# Read training data and generate vocabulary\n",
        "maxlen = 0\n",
        "word_freqs = collections.Counter()\n",
        "num_recs = 0\n",
        "# ftrain = open(os.path.join(DATA_DIR, \"umich-sentiment-train.txt\"), 'rb')\n",
        "ftrain = open(os.path.join(DATA_DIR, \"umich-sentiment-train.txt\"), 'r', encoding='utf-8')\n",
        "for line in ftrain:\n",
        "    label, sentence = line.strip().split(\"\\t\")\n",
        "    # words = nltk.word_tokenize(sentence.decode(\"ascii\", \"ignore\").lower())\n",
        "    words = nltk.word_tokenize(sentence.lower())\n",
        "    if len(words) > maxlen:\n",
        "        maxlen = len(words)\n",
        "    for word in words:\n",
        "        word_freqs[word] += 1\n",
        "    num_recs += 1\n",
        "ftrain.close()\n",
        "\n",
        "## Get some information about our corpus\n",
        "print(maxlen)            # 42\n",
        "print(len(word_freqs))   # 2328"
      ]
    },
    {
      "cell_type": "code",
      "execution_count": 11,
      "metadata": {
        "id": "HjqGzzJn3Xvp"
      },
      "outputs": [],
      "source": [
        "# 1 is UNK, 0 is PAD\n",
        "# We take MAX_FEATURES-1 features to account for PAD\n",
        "vocab_size = min(MAX_FEATURES, len(word_freqs)) + 2\n",
        "word2index = {x[0]: i+2 for i, x in\n",
        "                enumerate(word_freqs.most_common(MAX_FEATURES))}\n",
        "word2index[\"PAD\"] = 0\n",
        "word2index[\"UNK\"] = 1\n",
        "index2word = {v:k for k, v in word2index.items()}\n",
        "\n",
        "# convert sentences to sequences\n",
        "X = np.empty((num_recs, ), dtype=list)\n",
        "y = np.zeros((num_recs, ))\n",
        "i = 0\n",
        "# ftrain = open(os.path.join(DATA_DIR, \"umich-sentiment-train.txt\"), 'rb')\n",
        "ftrain = open(os.path.join(DATA_DIR, \"umich-sentiment-train.txt\"), 'r', encoding='utf-8')\n",
        "for line in ftrain:\n",
        "    label, sentence = line.strip().split(\"\\t\")\n",
        "    # words = nltk.word_tokenize(sentence.decode(\"ascii\", \"ignore\").lower())\n",
        "    words = nltk.word_tokenize(sentence.lower())\n",
        "    seqs = []\n",
        "    for word in words:\n",
        "        if word in word2index:\n",
        "            seqs.append(word2index[word])\n",
        "        else:\n",
        "            seqs.append(word2index[\"UNK\"])\n",
        "    X[i] = seqs\n",
        "    y[i] = int(label)\n",
        "    i += 1\n",
        "ftrain.close()"
      ]
    },
    {
      "cell_type": "code",
      "source": [
        "# Ejemplo de los textos del conjunto X\n",
        "examples = [\" \".join([index2word[x] for x in row]) for row in X[:5]]\n",
        "examples"
      ],
      "metadata": {
        "colab": {
          "base_uri": "https://localhost:8080/"
        },
        "id": "-fBq7pVezOXW",
        "outputId": "821bab66-721d-46ae-d318-6f347227b647"
      },
      "execution_count": 25,
      "outputs": [
        {
          "output_type": "execute_result",
          "data": {
            "text/plain": [
              "['the da vinci code book is just awesome .',\n",
              " \"this was the first clive cussler i 've ever read , but even books like relic , and da vinci code were more plausible than this .\",\n",
              " 'i liked the da vinci code a lot .',\n",
              " 'i liked the da vinci code a lot .',\n",
              " \"i liked the da vinci code but it ultimatly did n't seem to hold it 's own .\"]"
            ]
          },
          "metadata": {},
          "execution_count": 25
        }
      ]
    },
    {
      "cell_type": "code",
      "execution_count": null,
      "metadata": {
        "colab": {
          "base_uri": "https://localhost:8080/",
          "height": 421
        },
        "id": "qiIwbeIO3Xvx",
        "outputId": "6e95bb81-1919-4eb6-eed0-9e5d9cb5a46c"
      },
      "outputs": [
        {
          "name": "stdout",
          "output_type": "stream",
          "text": [
            "(5668, 40) (1418, 40) (5668,) (1418,)\n",
            "Train on 5668 samples, validate on 1418 samples\n",
            "Epoch 1/10\n",
            "5668/5668 [==============================] - 8s 1ms/sample - loss: 0.2337 - accuracy: 0.8947 - val_loss: 0.0593 - val_accuracy: 0.9774\n",
            "Epoch 2/10\n",
            "5668/5668 [==============================] - 6s 1ms/sample - loss: 0.0253 - accuracy: 0.9921 - val_loss: 0.0371 - val_accuracy: 0.9887\n",
            "Epoch 3/10\n",
            "5668/5668 [==============================] - 6s 1ms/sample - loss: 0.0098 - accuracy: 0.9972 - val_loss: 0.0402 - val_accuracy: 0.9859\n",
            "Epoch 4/10\n",
            "5668/5668 [==============================] - 6s 1ms/sample - loss: 0.0055 - accuracy: 0.9982 - val_loss: 0.0413 - val_accuracy: 0.9901\n",
            "Epoch 5/10\n",
            "5668/5668 [==============================] - 6s 1ms/sample - loss: 0.0012 - accuracy: 1.0000 - val_loss: 0.0392 - val_accuracy: 0.9894\n",
            "Epoch 6/10\n",
            "5668/5668 [==============================] - 6s 1ms/sample - loss: 0.0044 - accuracy: 0.9993 - val_loss: 0.0738 - val_accuracy: 0.9795\n",
            "Epoch 7/10\n",
            "5668/5668 [==============================] - 6s 1ms/sample - loss: 0.0097 - accuracy: 0.9972 - val_loss: 0.0469 - val_accuracy: 0.9866\n",
            "Epoch 8/10\n",
            "5668/5668 [==============================] - 6s 1ms/sample - loss: 0.0027 - accuracy: 0.9996 - val_loss: 0.0616 - val_accuracy: 0.9873\n",
            "Epoch 9/10\n",
            "5668/5668 [==============================] - 6s 1ms/sample - loss: 0.0034 - accuracy: 0.9989 - val_loss: 0.0675 - val_accuracy: 0.9845\n",
            "Epoch 10/10\n",
            "5668/5668 [==============================] - 6s 1ms/sample - loss: 0.0020 - accuracy: 0.9996 - val_loss: 0.0602 - val_accuracy: 0.9859\n"
          ]
        }
      ],
      "source": [
        "# Pad the sequences (left padded with zeros)\n",
        "X = sequence.pad_sequences(X, maxlen=MAX_SENTENCE_LENGTH)\n",
        "\n",
        "# Split input into training and test\n",
        "Xtrain, Xtest, ytrain, ytest = train_test_split(X, y, test_size=0.2,\n",
        "                                                random_state=42)\n",
        "print(Xtrain.shape, Xtest.shape, ytrain.shape, ytest.shape)\n",
        "\n",
        "# Build model\n",
        "model = Sequential()\n",
        "model.add(Embedding(vocab_size, EMBEDDING_SIZE,\n",
        "                    input_length=MAX_SENTENCE_LENGTH))\n",
        "# model.add(SpatialDropout1D(Dropout(0.2))\n",
        "model.add(SpatialDropout1D(0.2))\n",
        "model.add(LSTM(HIDDEN_LAYER_SIZE, dropout=0.2, recurrent_dropout=0.2))\n",
        "model.add(Dense(1))\n",
        "model.add(Activation(\"sigmoid\"))\n",
        "\n",
        "model.compile(loss=\"binary_crossentropy\", optimizer=\"adam\",\n",
        "              metrics=[\"accuracy\"])\n",
        "\n",
        "history = model.fit(Xtrain, ytrain, batch_size=BATCH_SIZE,\n",
        "                    epochs=NUM_EPOCHS,\n",
        "                    validation_data=(Xtest, ytest))"
      ]
    },
    {
      "cell_type": "code",
      "execution_count": null,
      "metadata": {
        "colab": {
          "base_uri": "https://localhost:8080/",
          "height": 297
        },
        "id": "4jE22-JK3Xv4",
        "outputId": "0e97bd63-4d1f-48dc-fff4-eeb337e804f8"
      },
      "outputs": [
        {
          "data": {
            "image/png": "[encoded data removed]",
            "text/plain": [
              "<Figure size 432x288 with 2 Axes>"
            ]
          },
          "metadata": {
            "needs_background": "light"
          },
          "output_type": "display_data"
        }
      ],
      "source": [
        "# plot loss and accuracy\n",
        "plt.subplot(211)\n",
        "plt.title(\"Accuracy\")\n",
        "plt.plot(history.history[\"accuracy\"], color=\"g\", label=\"Train\")\n",
        "plt.plot(history.history[\"val_accuracy\"], color=\"b\", label=\"Validation\")\n",
        "plt.legend(loc=\"best\")\n",
        "\n",
        "plt.subplot(212)\n",
        "plt.title(\"Loss\")\n",
        "plt.plot(history.history[\"loss\"], color=\"g\", label=\"Train\")\n",
        "plt.plot(history.history[\"val_loss\"], color=\"b\", label=\"Validation\")\n",
        "plt.legend(loc=\"best\")\n",
        "\n",
        "plt.tight_layout()\n",
        "plt.show()"
      ]
    },
    {
      "cell_type": "code",
      "execution_count": null,
      "metadata": {
        "colab": {
          "base_uri": "https://localhost:8080/",
          "height": 146
        },
        "id": "hTus2FsL3Xv-",
        "outputId": "7c204d40-4f57-41f5-ebc9-0bf976648624"
      },
      "outputs": [
        {
          "name": "stdout",
          "output_type": "stream",
          "text": [
            "1418/1418 [==============================] - 0s 246us/sample - loss: 0.0602 - accuracy: 0.9859\n",
            "Test score: 0.060, accuracy: 0.986\n",
            "0\t0\t, she helped me bobbypin my insanely cool hat to my head , and she laughed at my stupid brokeback mountain cowboy jokes..\n",
            "1\t1\tthe da vinci code was absolutely awesome !\n",
            "0\t0\ti think i hate harry potter because it outshines much better reading material out there and the movies are just plain stupid to begin with .\n",
            "0\t0\tthen snuck into brokeback mountain , which is the most depressing movie i have ever seen..\n",
            "0\t0\tda vinci code sucks ...\n"
          ]
        }
      ],
      "source": [
        "# evaluate, devuelve el valor de la función de pérdida y\n",
        "# de métricas para el modelo en modo test\n",
        "score, acc = model.evaluate(Xtest, ytest, batch_size=BATCH_SIZE)\n",
        "print(\"Test score: %.3f, accuracy: %.3f\" % (score, acc))\n",
        "\n",
        "for i in range(5):\n",
        "    idx = np.random.randint(len(Xtest))\n",
        "    xtest = Xtest[idx].reshape(1,40)\n",
        "    ylabel = ytest[idx]\n",
        "    ypred = model.predict(xtest)[0][0]\n",
        "    sent = \" \".join([index2word[x] for x in xtest[0].tolist() if x != 0])\n",
        "    print(\"%.0f\\t%d\\t%s\" % (ypred, ylabel, sent))"
      ]
    },
    {
      "cell_type": "code",
      "execution_count": null,
      "metadata": {
        "id": "F3tdsPvy3XwD"
      },
      "outputs": [],
      "source": [
        "# Liberar recursos GPU\n",
        "# descomentar si se usa GPU\n",
        "\n",
        "# from numba import cuda\n",
        "# cuda.select_device(0)\n",
        "# cuda.close()"
      ]
    },
    {
      "cell_type": "code",
      "execution_count": null,
      "metadata": {
        "id": "kVQ2INJI3XwJ"
      },
      "outputs": [],
      "source": []
    }
  ],
  "metadata": {
    "accelerator": "GPU",
    "colab": {
      "provenance": [],
      "include_colab_link": true
    },
    "kernelspec": {
      "display_name": "Python 3",
      "language": "python",
      "name": "python3"
    },
    "language_info": {
      "codemirror_mode": {
        "name": "ipython",
        "version": 3
      },
      "file_extension": ".py",
      "mimetype": "text/x-python",
      "name": "python",
      "nbconvert_exporter": "python",
      "pygments_lexer": "ipython3",
      "version": "3.7.6"
    }
  },
  "nbformat": 4,
  "nbformat_minor": 0
}